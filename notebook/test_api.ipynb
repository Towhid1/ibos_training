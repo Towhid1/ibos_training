{
 "cells": [
  {
   "cell_type": "code",
   "execution_count": 2,
   "metadata": {},
   "outputs": [
    {
     "name": "stdout",
     "output_type": "stream",
     "text": [
      "[1.0, 2.0, 3.0, 3.0, 3.0, 3.0, 3.0, 3.0, 3.0, 3.0, 3.0, 3.0, 3.0] 13\n",
      "{'model_uuid': '20c8797193b3492d838aece3abe547a5', 'prediction': 5.310399711898377, 'run_id': '342f1114f5bb4618b49c8663bb0011b2', 'utc_time_created': '2023-09-23 06:40:09.488945'}\n"
     ]
    }
   ],
   "source": [
    "import requests\n",
    "import json\n",
    "\n",
    "# Define the server URL\n",
    "server_url = 'http://127.0.0.1/api/v1'\n",
    "feature = [1.0, 2.0, 3.0]\n",
    "if len(feature) < 13:\n",
    "    feature += [3.0] * (13 - len(feature))\n",
    "print(feature, len(feature))\n",
    "\n",
    "# Sample input data for prediction\n",
    "input_data = {\n",
    "    'features': feature # Replace with your actual input data\n",
    "}\n",
    "\n",
    "# Send a POST request to the server\n",
    "response = requests.post(server_url, json=input_data)\n",
    "\n",
    "# Check if the request was successful (status code 200)\n",
    "if response.status_code == 200:\n",
    "    # Parse the JSON response\n",
    "    data = response.json()\n",
    "    print(data)\n",
    "\n"
   ]
  },
  {
   "cell_type": "code",
   "execution_count": 3,
   "metadata": {},
   "outputs": [
    {
     "name": "stdout",
     "output_type": "stream",
     "text": [
      "200\n",
      "{\"message\":\"healthy\"}\n",
      "\n"
     ]
    }
   ],
   "source": [
    "\n",
    "# Test the health endpoint\n",
    "health_url = 'http://127.0.0.1/health'\n",
    "health_response = requests.get(health_url)\n",
    "\n",
    "print(health_response.status_code)\n",
    "print(health_response.text)\n",
    "# # Check if the health check was successful (status code 200)\n",
    "# if health_response.status_code == 200:\n",
    "#     health_data = health_response.json()\n",
    "#     print(\"Health Status:\", health_data['message'])\n",
    "# else:\n",
    "#     print(\"Health Check Error:\", health_response.status_code)"
   ]
  },
  {
   "cell_type": "code",
   "execution_count": null,
   "metadata": {},
   "outputs": [],
   "source": []
  }
 ],
 "metadata": {
  "kernelspec": {
   "display_name": "ibos",
   "language": "python",
   "name": "python3"
  },
  "language_info": {
   "codemirror_mode": {
    "name": "ipython",
    "version": 3
   },
   "file_extension": ".py",
   "mimetype": "text/x-python",
   "name": "python",
   "nbconvert_exporter": "python",
   "pygments_lexer": "ipython3",
   "version": "3.8.6"
  },
  "orig_nbformat": 4
 },
 "nbformat": 4,
 "nbformat_minor": 2
}
